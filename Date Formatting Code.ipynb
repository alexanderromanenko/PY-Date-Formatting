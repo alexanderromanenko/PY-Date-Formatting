{
 "cells": [
  {
   "cell_type": "markdown",
   "metadata": {},
   "source": [
    "## String conversion: slash-date format to dash-date format"
   ]
  },
  {
   "cell_type": "code",
   "execution_count": 1,
   "metadata": {
    "collapsed": true
   },
   "outputs": [],
   "source": [
    "def dateConversion(dateString):\n",
    "    \"\"\"\n",
    "    input: dateString: string date in \"slash\" format, eg, 19/8/16, 1/12/1898, 1/1/17 (assume valid dates)\n",
    "    Assume European date ordering (day-month-year). \n",
    "    Assume also that two-digit years are in the past century (1917-2016 is \"past century\", 2017- is not...).\n",
    "    output: returnString: string date in \"dash\" format, eg, 19-08-2016, 01-12-1898, 01-01-1917\n",
    "    \"\"\"\n",
    "    dateAsList = dateString.split('/') # split slash format string into a list\n",
    "    return (convertDay(dateAsList[0])+'-'+ convertMonth(dateAsList[1])+'-' + convertYear(dateAsList[2])) \n",
    "    #concatenating updated day, month and year values"
   ]
  },
  {
   "cell_type": "code",
   "execution_count": 2,
   "metadata": {
    "collapsed": true
   },
   "outputs": [],
   "source": [
    "def convertDay(dayString):\n",
    "    \"\"\" \n",
    "    input: string containing day number in slash-date format\n",
    "    output: string containing day number in dash-date format\n",
    "    \"\"\" \n",
    "    if len(dayString)==1:\n",
    "        return ('0'+dayString) #if the day is in a single digit format --> add a '0' to turn it into double digit format\n",
    "    else:\n",
    "        return (dayString) "
   ]
  },
  {
   "cell_type": "code",
   "execution_count": 3,
   "metadata": {
    "collapsed": true
   },
   "outputs": [],
   "source": [
    "def convertMonth(monthString):\n",
    "    \"\"\" \n",
    "    input: string containing month number in slash-date format\n",
    "    output: string containing month number in dash-date format\n",
    "    \"\"\"   \n",
    "    if len(monthString)==1:\n",
    "        return ('0'+monthString) #if the month is in a single digit format --> add a '0' to turn it into double digit format\n",
    "    else:\n",
    "        return (monthString)"
   ]
  },
  {
   "cell_type": "code",
   "execution_count": 4,
   "metadata": {
    "collapsed": true
   },
   "outputs": [],
   "source": [
    "def convertYear(yearString):\n",
    "    \"\"\" \n",
    "    input: string containing year number in slash-date format\n",
    "    output: string containing year number in dash-date format\n",
    "    \"\"\"\n",
    "    if len(yearString)==2:\n",
    "        if int(yearString) < 17:  #if the submitted year has only two digits- this value will be converted into either 19XX or 20XX for 1917-2016\n",
    "            return ('20'+yearString) \n",
    "        else: \n",
    "            return ('19'+yearString)\n",
    "    else:\n",
    "        return (yearString)\n",
    "    \n",
    "    #if the year is in a double digit format --> add '20' to turn it into 4 digit format"
   ]
  },
  {
   "cell_type": "code",
   "execution_count": 5,
   "metadata": {
    "collapsed": false
   },
   "outputs": [
    {
     "name": "stdout",
     "output_type": "stream",
     "text": [
      "19/8/16\n",
      "19-08-2016\n",
      "1/12/1898\n",
      "01-12-1898\n",
      "1/1/17\n",
      "01-01-1917\n"
     ]
    }
   ],
   "source": [
    "def testDateConversion():\n",
    "    \"\"\" function to test your date conversion function\n",
    "    \"\"\"\n",
    "    for dateString in ['19/8/16','1/12/1898','1/1/17']:\n",
    "        # should return '19-08-2016','01-12-1898','01-01-1917' \n",
    "        print(dateString)\n",
    "        print(dateConversion(dateString))\n",
    "\n",
    "\n",
    "testDateConversion()"
   ]
  },
  {
   "cell_type": "code",
   "execution_count": 8,
   "metadata": {
    "collapsed": true
   },
   "outputs": [],
   "source": [
    "# Complete robust version below\n",
    "\n",
    "def dateConversionRobust(dateString):\n",
    "    \"\"\"\n",
    "    input: dateString: string date in \"slash\" format, eg, 19/8/16, 1/12/1898, 1/1/17 (DO NOT assume valid date inputs)\n",
    "    Use European date ordering (day-month-year). \n",
    "    Assume that two-digit years are in the past century (1917-2016 is \"past century\", 2017- is not...).\n",
    "    output: returnString: string date in \"dash\" format, eg, 19-08-2016, 01-12-1898, 01-01-1917\n",
    "    if not a valid date, return None\n",
    "    \"\"\"    \n",
    "    \n",
    "    try:\n",
    "        \n",
    "        newdate=dateConversion(dateString)        \n",
    "        newdate=newdate.replace(' ','') # removes any blank spaces in case entered by mistake        \n",
    "        date=newdate.split('-')      # splitting the string for day, month and a year\n",
    "        \n",
    "        \n",
    "        #parsing the date into day, month and a year. converting into integer as the input is a string\n",
    "        day= int(date[0])\n",
    "        month= int(date[1])        \n",
    "        year= int(date[2])\n",
    "            \n",
    "        daymax=[31,28,31,30,31,30,31,31,30,31,30,31] #list of days in months of a year\n",
    "        if leap(year)=='leap': \n",
    "            daymax[1]=29   #for leap years amount of days in february is replaced to 29\n",
    "    \n",
    "        #conditional statement is set to catch the following\n",
    "            #negative values for day or month; \n",
    "            #set max of month to 12; \n",
    "            #set max days in a month based on the month. the values are picked from the daymax list above            \n",
    "            #set a year to be in a range between 1000 and 1999 \n",
    "        if (day or month)>0 and month < 13 and day <= daymax[month-1] and year >=1000 and year <=9999:\n",
    "            return (newdate)\n",
    "        else:\n",
    "            return ('None (*'+ dateString +'*- Not a valid date, please re-enter)') \n",
    "            # when the date parameters do not meet conditional requirements- the user is asked to re-enter the date\n",
    " \n",
    "    except (IndexError, ValueError, SyntaxError): #when an error message is given- the user is asked to re-enter the date \n",
    "        return ('None(*'+ dateString +'*- Not a valid date, please re-enter)')\n"
   ]
  },
  {
   "cell_type": "code",
   "execution_count": 9,
   "metadata": {
    "collapsed": true
   },
   "outputs": [],
   "source": [
    "def leap(year):  #algorithm for working out whether the year is a leap one or not. \n",
    "#for leap years it will return 'leap', for non-leap years it will return the year\n",
    "    if year%4!=0:\n",
    "        return year\n",
    "    elif year%100!=0:\n",
    "        return ('leap')\n",
    "    elif year%400!=0:\n",
    "        return year        \n",
    "    else: \n",
    "        return ('leap')"
   ]
  },
  {
   "cell_type": "code",
   "execution_count": 11,
   "metadata": {
    "collapsed": false,
    "scrolled": true
   },
   "outputs": [
    {
     "name": "stdout",
     "output_type": "stream",
     "text": [
      "19//8///16\n",
      "None(*19//8///16*- Not a valid date, please re-enter)\n",
      "1//12/1898\n",
      "None(*1//12/1898*- Not a valid date, please re-enter)\n",
      "1/1/17/\n",
      "01-01-1917\n",
      "/32/12/2016\n",
      "None(*/32/12/2016*- Not a valid date, please re-enter)\n",
      "not a date string\n",
      "None(*not a date string*- Not a valid date, please re-enter)\n"
     ]
    }
   ],
   "source": [
    "def testDateConversionRobust():\n",
    "    \"\"\" function to test your date conversion function\n",
    "    \"\"\"\n",
    "    for dateString in ['19//8///16','1//12/1898','1/1/17/','/32/12/2016', 'not a date string']:\n",
    "        # should return '19-08-2016','01-12-1898','01-01-1917', None, None\n",
    "        print(dateString)\n",
    "        print(dateConversionRobust(dateString))\n",
    "        \n",
    "\n",
    "testDateConversionRobust()"
   ]
  },
  {
   "cell_type": "code",
   "execution_count": null,
   "metadata": {
    "collapsed": true
   },
   "outputs": [],
   "source": []
  },
  {
   "cell_type": "code",
   "execution_count": null,
   "metadata": {
    "collapsed": true
   },
   "outputs": [],
   "source": []
  }
 ],
 "metadata": {
  "anaconda-cloud": {},
  "kernelspec": {
   "display_name": "Python [conda root]",
   "language": "python",
   "name": "conda-root-py"
  },
  "language_info": {
   "codemirror_mode": {
    "name": "ipython",
    "version": 3
   },
   "file_extension": ".py",
   "mimetype": "text/x-python",
   "name": "python",
   "nbconvert_exporter": "python",
   "pygments_lexer": "ipython3",
   "version": "3.5.2"
  }
 },
 "nbformat": 4,
 "nbformat_minor": 1
}
